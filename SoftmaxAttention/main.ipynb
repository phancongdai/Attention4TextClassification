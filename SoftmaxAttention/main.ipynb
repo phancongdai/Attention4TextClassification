{
 "cells": [
  {
   "cell_type": "code",
   "execution_count": 21,
   "metadata": {},
   "outputs": [],
   "source": [
    "import pandas as pd\n",
    "import numpy as np\n",
    "import matplotlib.pyplot as plt\n",
    "from sklearn.model_selection import train_test_split\n",
    "import torch\n",
    "import torch.nn as nn\n",
    "from torch.utils.data import Dataset, DataLoader\n",
    "import torch.optim as optim"
   ]
  },
  {
   "cell_type": "code",
   "execution_count": 22,
   "metadata": {},
   "outputs": [
    {
     "name": "stdout",
     "output_type": "stream",
     "text": [
      "Shape of training data: (4543, 4)\n"
     ]
    }
   ],
   "source": [
    "train_df = pd.read_csv('../data/train_set.csv')\n",
    "print('Shape of training data:', train_df.shape)\n",
    "train_df\n",
    "validation_df = pd.read_csv('../data/validation_set.csv')"
   ]
  },
  {
   "cell_type": "code",
   "execution_count": 23,
   "metadata": {},
   "outputs": [],
   "source": [
    "# from positional_encoding import positional_encoding\n",
    "# import matplotlib.pyplot as plt\n",
    "# pe = positional_encoding(d_model=512, max_len=1000)\n",
    "# print(pe.shape)\n",
    "# print(pe[0].shape)\n",
    "# plt.pcolormesh(pe[0], cmap='RdBu')\n",
    "# plt.xlabel('depth')\n",
    "# plt.xlim((0,512))\n",
    "# plt.ylabel(('position'))\n",
    "# plt.colorbar()\n",
    "# plt.show()"
   ]
  },
  {
   "cell_type": "code",
   "execution_count": 24,
   "metadata": {},
   "outputs": [
    {
     "name": "stdout",
     "output_type": "stream",
     "text": [
      "Requirement already satisfied: tiktoken in c:\\users\\asus\\appdata\\local\\programs\\python\\python312\\lib\\site-packages (0.7.0)\n",
      "Requirement already satisfied: regex>=2022.1.18 in c:\\users\\asus\\appdata\\local\\programs\\python\\python312\\lib\\site-packages (from tiktoken) (2024.7.24)\n",
      "Requirement already satisfied: requests>=2.26.0 in c:\\users\\asus\\appdata\\local\\programs\\python\\python312\\lib\\site-packages (from tiktoken) (2.32.3)\n",
      "Requirement already satisfied: charset-normalizer<4,>=2 in c:\\users\\asus\\appdata\\local\\programs\\python\\python312\\lib\\site-packages (from requests>=2.26.0->tiktoken) (3.3.2)\n",
      "Requirement already satisfied: idna<4,>=2.5 in c:\\users\\asus\\appdata\\local\\programs\\python\\python312\\lib\\site-packages (from requests>=2.26.0->tiktoken) (3.8)\n",
      "Requirement already satisfied: urllib3<3,>=1.21.1 in c:\\users\\asus\\appdata\\local\\programs\\python\\python312\\lib\\site-packages (from requests>=2.26.0->tiktoken) (2.2.2)\n",
      "Requirement already satisfied: certifi>=2017.4.17 in c:\\users\\asus\\appdata\\local\\programs\\python\\python312\\lib\\site-packages (from requests>=2.26.0->tiktoken) (2024.8.30)\n"
     ]
    }
   ],
   "source": [
    "!pip install tiktoken"
   ]
  },
  {
   "cell_type": "code",
   "execution_count": 25,
   "metadata": {},
   "outputs": [],
   "source": [
    "from torch.utils.data import Dataset, DataLoader\n",
    "import tiktoken\n",
    "import math\n",
    "\n",
    "tokenizer = tiktoken.get_encoding('gpt2')\n",
    "class TextDataset(Dataset):\n",
    "    def __init__(self, dataframe, tokenizer):\n",
    "        self.titles = dataframe['title'].str.lower().values\n",
    "        self.labels = dataframe['label_numeric'].values\n",
    "        self.tokenizer = tokenizer\n",
    "\n",
    "    def __len__(self):\n",
    "        return len(self.titles)\n",
    "\n",
    "    def __getitem__(self, idx):\n",
    "        title = self.titles[idx]\n",
    "        label = self.labels[idx]\n",
    "        encoding = self.tokenizer.encode(title)\n",
    "        input_ids = torch.tensor(encoding, dtype=torch.long)\n",
    "        return input_ids, label\n",
    "\n",
    "# Collate function to pad sequences\n",
    "def collate_fn(batch):\n",
    "    input_ids = [item[0] for item in batch]\n",
    "    labels = [item[1] for item in batch]\n",
    "    max_length = max(len(ids) for ids in input_ids)\n",
    "    input_ids = torch.stack([torch.cat([ids, torch.zeros(max_length - len(ids), dtype=torch.long)]) for ids in input_ids])\n",
    "    labels = torch.tensor(labels, dtype=torch.long)\n",
    "    return input_ids, labels\n",
    "\n",
    "train_dataset = TextDataset(train_df, tokenizer)\n",
    "validation_dataset = TextDataset(validation_df, tokenizer)\n",
    "\n",
    "batch_size=32\n",
    "train_dataloader = DataLoader(train_dataset, batch_size, shuffle=True, collate_fn=collate_fn)\n",
    "validation_dataloader = DataLoader(validation_dataset, batch_size, shuffle=True, collate_fn=collate_fn)"
   ]
  },
  {
   "cell_type": "code",
   "execution_count": 26,
   "metadata": {},
   "outputs": [],
   "source": [
    "#early stopping\n",
    "\n",
    "class EarlyStopping():\n",
    "    def __init__(self, patience, delta):\n",
    "        super().__init__()\n",
    "        self.patience = patience\n",
    "        self.delta = delta\n",
    "        self.best_score = None\n",
    "        self.best_model = None\n",
    "        self.stop_early = False\n",
    "        self.counter = 0\n",
    "\n",
    "    def __call__(self, val_loss, model):\n",
    "        score = -val_loss\n",
    "        if self.best_score is None:\n",
    "            self.best_score = score\n",
    "        elif score<self.best_score + self.delta:\n",
    "            self.counter+=1\n",
    "            if self.counter>=self.patience:\n",
    "                self.stop_early=True\n",
    "        else: \n",
    "            self.best_score = score\n",
    "            self.best_model = model.state_dict()\n",
    "            self.counter=0\n",
    "    def load_best_model(self, updated_model):\n",
    "        updated_model.load_state_dict(self.best_model)    \n",
    "    "
   ]
  },
  {
   "cell_type": "code",
   "execution_count": 28,
   "metadata": {},
   "outputs": [],
   "source": [
    "from embedding import EmbeddingLayer\n",
    "from encoder_layer import EncoderLayer\n",
    "from transformer import Transformer\n",
    "vocab_size = tokenizer.n_vocab\n",
    "d_model = 256\n",
    "num_heads = 8\n",
    "d_ff = 512\n",
    "output_size = len(train_df['label_numeric'].unique())\n",
    "num_layers = 6\n",
    "dropout_rate = 0.1\n",
    "model = Transformer(vocab_size=vocab_size, d_model=d_model, num_layers=num_layers, max_len=5000, dropout_rate=dropout_rate, num_heads=num_heads, d_ff=d_ff, output_size=output_size)\n",
    "criterion = nn.CrossEntropyLoss()\n",
    "optimizer = optim.Adam(model.parameters(), lr=0.0005)\n",
    "early_stopping = EarlyStopping(5, 0.001)"
   ]
  },
  {
   "cell_type": "code",
   "execution_count": 29,
   "metadata": {},
   "outputs": [
    {
     "name": "stdout",
     "output_type": "stream",
     "text": [
      "[Epoch 1/20], Loss: 1.45, Validation Loss: 1.07, Validation Accuracy: 67.04%\n",
      "[Epoch 2/20], Loss: 1.09, Validation Loss: 0.81, Validation Accuracy: 73.00%\n",
      "[Epoch 3/20], Loss: 0.86, Validation Loss: 0.77, Validation Accuracy: 74.33%\n",
      "[Epoch 4/20], Loss: 0.74, Validation Loss: 0.71, Validation Accuracy: 79.06%\n",
      "[Epoch 5/20], Loss: 0.64, Validation Loss: 0.68, Validation Accuracy: 77.31%\n",
      "[Epoch 6/20], Loss: 0.57, Validation Loss: 0.69, Validation Accuracy: 77.21%\n",
      "[Epoch 7/20], Loss: 0.51, Validation Loss: 0.66, Validation Accuracy: 78.54%\n",
      "[Epoch 8/20], Loss: 0.45, Validation Loss: 0.72, Validation Accuracy: 76.80%\n",
      "[Epoch 9/20], Loss: 0.41, Validation Loss: 0.72, Validation Accuracy: 76.80%\n",
      "[Epoch 10/20], Loss: 0.36, Validation Loss: 0.68, Validation Accuracy: 78.34%\n",
      "[Epoch 11/20], Loss: 0.32, Validation Loss: 0.84, Validation Accuracy: 75.98%\n",
      "Early stopping at the epoch 11\n"
     ]
    }
   ],
   "source": [
    "num_epochs = 20\n",
    "for epoch in range(num_epochs):\n",
    "    model.train()\n",
    "    total_loss = 0\n",
    "    for iter, (input_ids, labels) in enumerate(train_dataloader, 1):\n",
    "        optimizer.zero_grad()\n",
    "        outputs = model(input_ids)\n",
    "        loss = criterion(outputs, labels)\n",
    "        loss.backward()\n",
    "        optimizer.step()\n",
    "        total_loss += loss.item()\n",
    "        #print(f\"[Epoch {epoch+1}/{num_epochs}] [Iter {iter}/{len(train_dataloader)}], Loss: {loss.item()}\")\n",
    "    avg_loss = total_loss / len(train_dataloader)\n",
    "    #print(f\"Epoch {epoch+1} completed, Average loss: {avg_loss:.4f}\")\n",
    "\n",
    "    # Validation step\n",
    "    model.eval()\n",
    "    correct = 0\n",
    "    total = 0\n",
    "    valid_loss = 0.0\n",
    "    with torch.no_grad():\n",
    "        for input_ids, labels in (validation_dataloader):\n",
    "            outputs = model(input_ids)\n",
    "            _, predicted = torch.max(outputs, 1)\n",
    "            total += labels.size(0)\n",
    "            correct += (predicted == labels).sum().item()\n",
    "            loss = criterion(outputs, labels)\n",
    "            valid_loss+=loss.item()\n",
    "    accuracy = 100 * correct / total\n",
    "    avg_valid_loss = valid_loss/len(validation_dataloader)\n",
    "    early_stopping(avg_valid_loss, model)\n",
    "    if early_stopping.stop_early:\n",
    "        print(f\"Early stopping at the epoch {epoch}\")\n",
    "        early_stopping.load_best_model(model)\n",
    "        break\n",
    "    #print(f\"Validation Accuracy and Validation Loss after Epoch {epoch+1}: {accuracy:.2f}%\")\n",
    "    print(f\"[Epoch {epoch+1}/{num_epochs}], Loss: {avg_loss:.2f}, Validation Loss: {avg_valid_loss:.2f}, Validation Accuracy: {accuracy:.2f}%\")\n"
   ]
  }
 ],
 "metadata": {
  "kernelspec": {
   "display_name": "Python 3",
   "language": "python",
   "name": "python3"
  },
  "language_info": {
   "codemirror_mode": {
    "name": "ipython",
    "version": 3
   },
   "file_extension": ".py",
   "mimetype": "text/x-python",
   "name": "python",
   "nbconvert_exporter": "python",
   "pygments_lexer": "ipython3",
   "version": "3.12.6"
  }
 },
 "nbformat": 4,
 "nbformat_minor": 2
}
